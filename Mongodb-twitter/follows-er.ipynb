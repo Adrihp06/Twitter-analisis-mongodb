{
 "cells": [
  {
   "cell_type": "markdown",
   "metadata": {},
   "source": [
    "Vamos a crear un programa que dado un archivo csv con cuentas de twitter obtenga los seguidores y seguidos de estas cuentas de twitter y modifique el mismo csv añadiendolos como columnas."
   ]
  },
  {
   "cell_type": "code",
   "execution_count": 1,
   "metadata": {},
   "outputs": [],
   "source": [
    "import pandas as pd\n",
    "from twython import Twython\n",
    "\n",
    "\n",
    "APP_KEY = 'kTbYPP7inrfVIdsNYuCdLfbLs' # API Key\n",
    "APP_SECRET = 'LTQ0Dp7GedTXmAmSdajFcnm2V6TTZjxeqjHxDnoObZmrbtzszm' # API Secret Key\n",
    "OAUTH_TOKEN = '1521505978793050112-qelhMJdfv1Czl78ebk4heIxcRBxp1Z' # Access Token\n",
    "OAUTH_TOKEN_SECRET = 'YhOpm1mo78nBO4BUT8HGQp66ctFQRqzQ586df1JxpLoKZ' # Access Token Secret\n",
    "\n",
    "\n",
    "twitter = Twython(APP_KEY, APP_SECRET, OAUTH_TOKEN, OAUTH_TOKEN_SECRET)\n",
    "def follows_twit(twitter,user):\n",
    "    follows_count = twitter.show_user(screen_name = user)\n",
    "    following = follows_count['friends_count']\n",
    "    followers = follows_count['followers_count']\n",
    "    return (followers,following)\n",
    "\n",
    "\n",
    "df = pd.read_csv('/Users/adrihp/Master/MBID01/accountsEMBS.csv', encoding='latin-1')\n",
    "miau = follows_twit(twitter,'millotierno')\n",
    "\n",
    "\n",
    "Followers = []\n",
    "Following = []\n",
    "for element in df['Twitter_handle']:\n",
    "    miau = follows_twit(twitter,element)\n",
    "    Followers.append(miau[0])\n",
    "    Following.append(miau[1])\n",
    "\n",
    "\n",
    "df['Followers'] = Followers\n",
    "df['Following'] = Following\n",
    "df.to_csv('/Users/adrihp/Master/MBID01/accountsEMBS.csv')\n"
   ]
  }
 ],
 "metadata": {
  "interpreter": {
   "hash": "b0fa6594d8f4cbf19f97940f81e996739fb7646882a419484c72d19e05852a7e"
  },
  "kernelspec": {
   "display_name": "Python 3.9.12 64-bit",
   "language": "python",
   "name": "python3"
  },
  "language_info": {
   "codemirror_mode": {
    "name": "ipython",
    "version": 3
   },
   "file_extension": ".py",
   "mimetype": "text/x-python",
   "name": "python",
   "nbconvert_exporter": "python",
   "pygments_lexer": "ipython3",
   "version": "3.9.12"
  },
  "orig_nbformat": 4
 },
 "nbformat": 4,
 "nbformat_minor": 2
}
